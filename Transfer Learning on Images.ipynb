{
 "cells": [
  {
   "cell_type": "code",
   "execution_count": 1,
   "id": "cce45dae",
   "metadata": {},
   "outputs": [
    {
     "name": "stderr",
     "output_type": "stream",
     "text": [
      "C:\\Users\\sushant\\anaconda3\\envs\\project\\lib\\site-packages\\numpy\\_distributor_init.py:30: UserWarning: loaded more than 1 DLL from .libs:\n",
      "C:\\Users\\sushant\\anaconda3\\envs\\project\\lib\\site-packages\\numpy\\.libs\\libopenblas.PYQHXLVVQ7VESDPUVUADXEVJOBGHJPAY.gfortran-win_amd64.dll\n",
      "C:\\Users\\sushant\\anaconda3\\envs\\project\\lib\\site-packages\\numpy\\.libs\\libopenblas.wcdjnk7yvmpzq2me2zzhjjrj3jikndb7.gfortran-win_amd64.dll\n",
      "  warnings.warn(\"loaded more than 1 DLL from .libs:\"\n"
     ]
    }
   ],
   "source": [
    "import pandas as pd\n",
    "import seaborn as sns\n",
    "import matplotlib.pyplot as plt\n",
    "import numpy as np\n",
    "import os,cv2"
   ]
  },
  {
   "cell_type": "code",
   "execution_count": 2,
   "id": "c01bf3fa",
   "metadata": {},
   "outputs": [],
   "source": [
    "import tensorflow as tf\n",
    "tf.config.experimental.list_physical_devices('GPU')\n",
    "gpus = tf.config.experimental.list_physical_devices('GPU')\n",
    "if gpus:\n",
    "    # Restrict TensorFlow to only allocate 1GB * 2 of memory on the first GPU\n",
    "    try:\n",
    "        tf.config.experimental.set_virtual_device_configuration(\n",
    "            gpus[0],\n",
    "            [tf.config.experimental.VirtualDeviceConfiguration(memory_limit=1024 * 10)])\n",
    "        logical_gpus = tf.config.experimental.list_logical_devices('GPU')\n",
    "        print(len(gpus), \"Physical GPUs,\", len(logical_gpus), \"Logical GPUs\")\n",
    "    except RuntimeError as e:\n",
    "        # Virtual devices must be set before GPUs have been initialized\n",
    "        print(e)"
   ]
  },
  {
   "cell_type": "code",
   "execution_count": 3,
   "id": "9d6c3a68",
   "metadata": {},
   "outputs": [],
   "source": [
    "directory=\"bone_marrow_cell_dataset/\"\n",
    "classses=os.listdir(directory)"
   ]
  },
  {
   "cell_type": "code",
   "execution_count": 4,
   "id": "d452afc9",
   "metadata": {},
   "outputs": [
    {
     "name": "stdout",
     "output_type": "stream",
     "text": [
      "bone_marrow_cell_dataset/ART\n",
      "bone_marrow_cell_dataset/BLA\n",
      "bone_marrow_cell_dataset/EBO\n",
      "bone_marrow_cell_dataset/EOS\n",
      "bone_marrow_cell_dataset/LYT\n",
      "bone_marrow_cell_dataset/MMZ\n",
      "bone_marrow_cell_dataset/MON\n",
      "bone_marrow_cell_dataset/MYB\n",
      "bone_marrow_cell_dataset/NGB\n",
      "bone_marrow_cell_dataset/NGS\n",
      "bone_marrow_cell_dataset/NIF\n",
      "bone_marrow_cell_dataset/PEB\n",
      "bone_marrow_cell_dataset/PLM\n",
      "bone_marrow_cell_dataset/PMO\n"
     ]
    }
   ],
   "source": [
    "import os\n",
    "import cv2\n",
    "image_size=224\n",
    "data1=[]#empty list\n",
    "for category in classses:\n",
    "    path = os.path.join(directory, category)\n",
    "    print(path)\n",
    "    label = classses.index(category)\n",
    "    for img in os.listdir(path):\n",
    "        img_path = os.path.join(path, img)\n",
    "        arr = cv2.imread(img_path)#Reading Images\n",
    "        arr = cv2.cvtColor(arr, cv2.COLOR_BGR2RGB)\n",
    "        new_arr = cv2.resize(arr, (image_size, image_size))#Resizing into same shape\n",
    "        data1.append([new_arr, label])"
   ]
  },
  {
   "cell_type": "code",
   "execution_count": 5,
   "id": "528a3f67",
   "metadata": {},
   "outputs": [],
   "source": [
    "import random\n",
    "random.shuffle(data1)"
   ]
  },
  {
   "cell_type": "code",
   "execution_count": 6,
   "id": "4805c370",
   "metadata": {},
   "outputs": [
    {
     "data": {
      "text/plain": [
       "7000"
      ]
     },
     "execution_count": 6,
     "metadata": {},
     "output_type": "execute_result"
    }
   ],
   "source": [
    "len(data1)"
   ]
  },
  {
   "cell_type": "code",
   "execution_count": 7,
   "id": "07ee87be",
   "metadata": {},
   "outputs": [
    {
     "data": {
      "text/plain": [
       "['ART',\n",
       " 'BLA',\n",
       " 'EBO',\n",
       " 'EOS',\n",
       " 'LYT',\n",
       " 'MMZ',\n",
       " 'MON',\n",
       " 'MYB',\n",
       " 'NGB',\n",
       " 'NGS',\n",
       " 'NIF',\n",
       " 'PEB',\n",
       " 'PLM',\n",
       " 'PMO']"
      ]
     },
     "execution_count": 7,
     "metadata": {},
     "output_type": "execute_result"
    }
   ],
   "source": [
    "classses"
   ]
  },
  {
   "cell_type": "code",
   "execution_count": 8,
   "id": "61c0ce29",
   "metadata": {},
   "outputs": [],
   "source": [
    "x=[]#ndependent\n",
    "y=[]#dependent\n",
    "for features,labels in data1:\n",
    "    x.append(features)\n",
    "    y.append(labels)"
   ]
  },
  {
   "cell_type": "code",
   "execution_count": 9,
   "id": "57d2e51a",
   "metadata": {},
   "outputs": [],
   "source": [
    "x=np.array(x)\n",
    "y=np.array(y)\n",
    "#x=x/255 #feature scaling"
   ]
  },
  {
   "cell_type": "code",
   "execution_count": 10,
   "id": "204247a5",
   "metadata": {},
   "outputs": [],
   "source": [
    "from sklearn.model_selection import train_test_split\n",
    "X_train,X_test,y_train,y_test=train_test_split(x,y,test_size=0.2)"
   ]
  },
  {
   "cell_type": "code",
   "execution_count": 11,
   "id": "a6106aa2",
   "metadata": {},
   "outputs": [],
   "source": [
    "from tensorflow.keras import applications\n",
    "from tensorflow.keras import layers\n",
    "from tensorflow import keras\n",
    "from tensorflow.keras import optimizers\n",
    "from tensorflow.keras.models import Sequential ,Model, load_model\n",
    "from tensorflow.keras.layers import Dropout, Flatten, Dense ,Dropout\n",
    "from tensorflow.keras.callbacks import ModelCheckpoint, LearningRateScheduler, EarlyStopping, ReduceLROnPlateau, TensorBoard\n",
    "base_model = applications.VGG16(weights='imagenet', include_top=False, input_shape=(224,224,3))\n",
    "model = Sequential()\n",
    "model.add(base_model)\n",
    "model.add(Flatten(input_shape=base_model.output_shape[1:]))\n",
    "model.add(Dense(256, activation='relu'))\n",
    "model.add(Dropout(0.2))\n",
    "model.add(Dense(128, activation='relu'))\n",
    "model.add(Dropout(0.2))\n",
    "model.add(Dense(len(classses), activation='softmax'))\n",
    "model = Model(inputs=model.input, outputs=model.output)\n",
    "model.compile(loss='sparse_categorical_crossentropy',optimizer=optimizers.Adam(lr=1e-4),metrics=['accuracy'])"
   ]
  },
  {
   "cell_type": "code",
   "execution_count": 12,
   "id": "a904894e",
   "metadata": {},
   "outputs": [
    {
     "name": "stdout",
     "output_type": "stream",
     "text": [
      "175/175 [==============================] - 3336s 19s/step - loss: 2.7615 - accuracy: 0.0739 - val_loss: 2.6391 - val_accuracy: 0.0586\n"
     ]
    }
   ],
   "source": [
    "progess = model.fit(x=X_train,y=y_train,epochs=1,validation_data= (X_test, y_test))"
   ]
  },
  {
   "cell_type": "code",
   "execution_count": 13,
   "id": "54b8b445",
   "metadata": {},
   "outputs": [
    {
     "data": {
      "image/png": "[encoded data removed]",
      "text/plain": [
       "<Figure size 640x480 with 1 Axes>"
      ]
     },
     "metadata": {},
     "output_type": "display_data"
    },
    {
     "data": {
      "image/png": "[encoded data removed]",
      "text/plain": [
       "<Figure size 640x480 with 1 Axes>"
      ]
     },
     "metadata": {},
     "output_type": "display_data"
    }
   ],
   "source": [
    "plt.plot(progess.history['accuracy'])\n",
    "plt.plot(progess.history['val_accuracy'])\n",
    "plt.title('model accuracy')\n",
    "plt.ylabel('accuracy')\n",
    "plt.xlabel('epoch')\n",
    "plt.legend(['train', 'test'], loc='upper left')\n",
    "plt.show()\n",
    "# summarize history for loss\n",
    "plt.plot(progess.history['loss'])\n",
    "plt.plot(progess.history['val_loss'])\n",
    "plt.title('model loss')\n",
    "plt.ylabel('loss')\n",
    "plt.xlabel('epoch')\n",
    "plt.legend(['train', 'test'], loc='upper left')\n",
    "plt.show()"
   ]
  },
  {
   "cell_type": "code",
   "execution_count": 14,
   "id": "1e0a1561",
   "metadata": {},
   "outputs": [],
   "source": [
    "from sklearn.metrics import classification_report, confusion_matrix\n",
    "y_pred = model.predict(X_test)"
   ]
  },
  {
   "cell_type": "code",
   "execution_count": 15,
   "id": "21378ef5",
   "metadata": {},
   "outputs": [],
   "source": [
    "y_pred_new=[]\n",
    "for i in y_pred:\n",
    "    #print(i)\n",
    "    #break\n",
    "    y=np.argmax(i)\n",
    "    #break\n",
    "    #print(y)\n",
    "    y_pred_new.append(y)\n",
    "    #break"
   ]
  },
  {
   "cell_type": "code",
   "execution_count": 16,
   "id": "814a094a",
   "metadata": {},
   "outputs": [
    {
     "name": "stdout",
     "output_type": "stream",
     "text": [
      "              precision    recall  f1-score   support\n",
      "\n",
      "         ART       0.00      0.00      0.00       108\n",
      "         BLA       0.00      0.00      0.00       105\n",
      "         EBO       0.00      0.00      0.00       103\n",
      "         EOS       0.00      0.00      0.00        94\n",
      "         LYT       0.00      0.00      0.00       106\n",
      "         MMZ       0.00      0.00      0.00        95\n",
      "         MON       0.06      1.00      0.11        82\n",
      "         MYB       0.00      0.00      0.00        92\n",
      "         NGB       0.00      0.00      0.00        99\n",
      "         NGS       0.00      0.00      0.00       107\n",
      "         NIF       0.00      0.00      0.00       102\n",
      "         PEB       0.00      0.00      0.00        96\n",
      "         PLM       0.00      0.00      0.00       111\n",
      "         PMO       0.00      0.00      0.00       100\n",
      "\n",
      "    accuracy                           0.06      1400\n",
      "   macro avg       0.00      0.07      0.01      1400\n",
      "weighted avg       0.00      0.06      0.01      1400\n",
      "\n"
     ]
    },
    {
     "name": "stderr",
     "output_type": "stream",
     "text": [
      "C:\\Users\\sushant\\AppData\\Roaming\\Python\\Python38\\site-packages\\sklearn\\metrics\\_classification.py:1344: UndefinedMetricWarning: Precision and F-score are ill-defined and being set to 0.0 in labels with no predicted samples. Use `zero_division` parameter to control this behavior.\n",
      "  _warn_prf(average, modifier, msg_start, len(result))\n",
      "C:\\Users\\sushant\\AppData\\Roaming\\Python\\Python38\\site-packages\\sklearn\\metrics\\_classification.py:1344: UndefinedMetricWarning: Precision and F-score are ill-defined and being set to 0.0 in labels with no predicted samples. Use `zero_division` parameter to control this behavior.\n",
      "  _warn_prf(average, modifier, msg_start, len(result))\n",
      "C:\\Users\\sushant\\AppData\\Roaming\\Python\\Python38\\site-packages\\sklearn\\metrics\\_classification.py:1344: UndefinedMetricWarning: Precision and F-score are ill-defined and being set to 0.0 in labels with no predicted samples. Use `zero_division` parameter to control this behavior.\n",
      "  _warn_prf(average, modifier, msg_start, len(result))\n"
     ]
    }
   ],
   "source": [
    "from sklearn.metrics import classification_report, confusion_matrix\n",
    "print(classification_report(y_test, y_pred_new, target_names=classses))"
   ]
  },
  {
   "cell_type": "code",
   "execution_count": 17,
   "id": "a28092a2",
   "metadata": {},
   "outputs": [
    {
     "data": {
      "text/plain": [
       "<AxesSubplot:>"
      ]
     },
     "execution_count": 17,
     "metadata": {},
     "output_type": "execute_result"
    },
    {
     "data": {
      "image/png": "[encoded data removed]",
      "text/plain": [
       "<Figure size 1000x300 with 2 Axes>"
      ]
     },
     "metadata": {},
     "output_type": "display_data"
    }
   ],
   "source": [
    "from sklearn import metrics\n",
    "cm=metrics.confusion_matrix(y_test,y_pred_new)\n",
    "import pandas as pd\n",
    "df_cm=pd.DataFrame(cm)\n",
    "import seaborn as sns\n",
    "plt.figure(figsize = (10,3))\n",
    "sns.heatmap(df_cm, annot=True)"
   ]
  },
  {
   "cell_type": "code",
   "execution_count": 18,
   "id": "3bfd54bc",
   "metadata": {},
   "outputs": [
    {
     "name": "stdout",
     "output_type": "stream",
     "text": [
      "WARNING:tensorflow:From C:\\Users\\sushant\\AppData\\Roaming\\Python\\Python38\\site-packages\\tensorflow\\python\\training\\tracking\\tracking.py:111: Model.state_updates (from tensorflow.python.keras.engine.training) is deprecated and will be removed in a future version.\n",
      "Instructions for updating:\n",
      "This property should not be used in TensorFlow 2.0, as updates are applied automatically.\n",
      "WARNING:tensorflow:From C:\\Users\\sushant\\AppData\\Roaming\\Python\\Python38\\site-packages\\tensorflow\\python\\training\\tracking\\tracking.py:111: Layer.updates (from tensorflow.python.keras.engine.base_layer) is deprecated and will be removed in a future version.\n",
      "Instructions for updating:\n",
      "This property should not be used in TensorFlow 2.0, as updates are applied automatically.\n",
      "INFO:tensorflow:Assets written to: model/VGGSKin.hp5\\assets\n"
     ]
    }
   ],
   "source": [
    "model.save(\"model/VGGSKin.hp5\")"
   ]
  },
  {
   "cell_type": "code",
   "execution_count": 19,
   "id": "d2a3db8b",
   "metadata": {},
   "outputs": [],
   "source": [
    "import os"
   ]
  },
  {
   "cell_type": "code",
   "execution_count": 20,
   "id": "7e23232f",
   "metadata": {},
   "outputs": [
    {
     "name": "stdout",
     "output_type": "stream",
     "text": [
      "ART_00009.jpg\n"
     ]
    },
    {
     "name": "stderr",
     "output_type": "stream",
     "text": [
      "Using TensorFlow backend.\n"
     ]
    },
    {
     "name": "stdout",
     "output_type": "stream",
     "text": [
      "<class 'numpy.ndarray'>\n",
      "[0.07161421 0.07149373 0.07152458 0.0715449  0.07148767 0.07139453\n",
      " 0.07176259 0.07172848 0.07133742 0.07115402 0.07109497 0.07133149\n",
      " 0.07142376 0.07110766]\n",
      "6\n",
      "MON Detected in Image\n",
      "-----------------------------------------------\n",
      "BLA_00009.jpg\n",
      "<class 'numpy.ndarray'>\n",
      "[0.07161421 0.07149373 0.07152458 0.0715449  0.07148767 0.07139453\n",
      " 0.07176259 0.07172848 0.07133742 0.07115402 0.07109497 0.07133149\n",
      " 0.07142376 0.07110766]\n",
      "6\n",
      "MON Detected in Image\n",
      "-----------------------------------------------\n",
      "EBO_00009.jpg\n",
      "<class 'numpy.ndarray'>\n",
      "[0.07161421 0.07149373 0.07152458 0.0715449  0.07148767 0.07139453\n",
      " 0.07176259 0.07172848 0.07133742 0.07115402 0.07109497 0.07133149\n",
      " 0.07142376 0.07110766]\n",
      "6\n",
      "MON Detected in Image\n",
      "-----------------------------------------------\n",
      "EOS_00009.jpg\n",
      "<class 'numpy.ndarray'>\n",
      "WARNING:tensorflow:5 out of the last 48 calls to <function Model.make_predict_function.<locals>.predict_function at 0x00000199931DF670> triggered tf.function retracing. Tracing is expensive and the excessive number of tracings could be due to (1) creating @tf.function repeatedly in a loop, (2) passing tensors with different shapes, (3) passing Python objects instead of tensors. For (1), please define your @tf.function outside of the loop. For (2), @tf.function has experimental_relax_shapes=True option that relaxes argument shapes that can avoid unnecessary retracing. For (3), please refer to https://www.tensorflow.org/tutorials/customization/performance#python_or_tensor_args and https://www.tensorflow.org/api_docs/python/tf/function for  more details.\n",
      "[0.07161421 0.07149373 0.07152458 0.0715449  0.07148767 0.07139453\n",
      " 0.07176259 0.07172848 0.07133742 0.07115402 0.07109497 0.07133149\n",
      " 0.07142376 0.07110766]\n",
      "6\n",
      "MON Detected in Image\n",
      "-----------------------------------------------\n",
      "LYT_00009.jpg\n",
      "<class 'numpy.ndarray'>\n",
      "WARNING:tensorflow:6 out of the last 49 calls to <function Model.make_predict_function.<locals>.predict_function at 0x000001999A904670> triggered tf.function retracing. Tracing is expensive and the excessive number of tracings could be due to (1) creating @tf.function repeatedly in a loop, (2) passing tensors with different shapes, (3) passing Python objects instead of tensors. For (1), please define your @tf.function outside of the loop. For (2), @tf.function has experimental_relax_shapes=True option that relaxes argument shapes that can avoid unnecessary retracing. For (3), please refer to https://www.tensorflow.org/tutorials/customization/performance#python_or_tensor_args and https://www.tensorflow.org/api_docs/python/tf/function for  more details.\n",
      "[0.07161421 0.07149373 0.07152458 0.0715449  0.07148767 0.07139453\n",
      " 0.07176259 0.07172848 0.07133742 0.07115402 0.07109497 0.07133149\n",
      " 0.07142376 0.07110766]\n",
      "6\n",
      "MON Detected in Image\n",
      "-----------------------------------------------\n",
      "MMZ_00009.jpg\n",
      "<class 'numpy.ndarray'>\n",
      "WARNING:tensorflow:7 out of the last 50 calls to <function Model.make_predict_function.<locals>.predict_function at 0x00000199B67BB1F0> triggered tf.function retracing. Tracing is expensive and the excessive number of tracings could be due to (1) creating @tf.function repeatedly in a loop, (2) passing tensors with different shapes, (3) passing Python objects instead of tensors. For (1), please define your @tf.function outside of the loop. For (2), @tf.function has experimental_relax_shapes=True option that relaxes argument shapes that can avoid unnecessary retracing. For (3), please refer to https://www.tensorflow.org/tutorials/customization/performance#python_or_tensor_args and https://www.tensorflow.org/api_docs/python/tf/function for  more details.\n",
      "[0.07161421 0.07149373 0.07152458 0.0715449  0.07148767 0.07139453\n",
      " 0.07176259 0.07172848 0.07133742 0.07115402 0.07109497 0.07133149\n",
      " 0.07142376 0.07110766]\n",
      "6\n",
      "MON Detected in Image\n",
      "-----------------------------------------------\n",
      "MON_00009.jpg\n",
      "<class 'numpy.ndarray'>\n",
      "WARNING:tensorflow:8 out of the last 51 calls to <function Model.make_predict_function.<locals>.predict_function at 0x0000019A01E41280> triggered tf.function retracing. Tracing is expensive and the excessive number of tracings could be due to (1) creating @tf.function repeatedly in a loop, (2) passing tensors with different shapes, (3) passing Python objects instead of tensors. For (1), please define your @tf.function outside of the loop. For (2), @tf.function has experimental_relax_shapes=True option that relaxes argument shapes that can avoid unnecessary retracing. For (3), please refer to https://www.tensorflow.org/tutorials/customization/performance#python_or_tensor_args and https://www.tensorflow.org/api_docs/python/tf/function for  more details.\n",
      "[0.07161421 0.07149373 0.07152458 0.0715449  0.07148767 0.07139453\n",
      " 0.07176259 0.07172848 0.07133742 0.07115402 0.07109497 0.07133149\n",
      " 0.07142376 0.07110766]\n",
      "6\n",
      "MON Detected in Image\n",
      "-----------------------------------------------\n",
      "MYB_00009.jpg\n",
      "<class 'numpy.ndarray'>\n",
      "WARNING:tensorflow:9 out of the last 52 calls to <function Model.make_predict_function.<locals>.predict_function at 0x0000019A14B6F670> triggered tf.function retracing. Tracing is expensive and the excessive number of tracings could be due to (1) creating @tf.function repeatedly in a loop, (2) passing tensors with different shapes, (3) passing Python objects instead of tensors. For (1), please define your @tf.function outside of the loop. For (2), @tf.function has experimental_relax_shapes=True option that relaxes argument shapes that can avoid unnecessary retracing. For (3), please refer to https://www.tensorflow.org/tutorials/customization/performance#python_or_tensor_args and https://www.tensorflow.org/api_docs/python/tf/function for  more details.\n",
      "[0.07161421 0.07149373 0.07152458 0.0715449  0.07148767 0.07139453\n",
      " 0.07176259 0.07172848 0.07133742 0.07115402 0.07109497 0.07133149\n",
      " 0.07142376 0.07110766]\n",
      "6\n",
      "MON Detected in Image\n",
      "-----------------------------------------------\n",
      "NGB_00009.jpg\n",
      "<class 'numpy.ndarray'>\n",
      "WARNING:tensorflow:10 out of the last 53 calls to <function Model.make_predict_function.<locals>.predict_function at 0x0000019A2E53F700> triggered tf.function retracing. Tracing is expensive and the excessive number of tracings could be due to (1) creating @tf.function repeatedly in a loop, (2) passing tensors with different shapes, (3) passing Python objects instead of tensors. For (1), please define your @tf.function outside of the loop. For (2), @tf.function has experimental_relax_shapes=True option that relaxes argument shapes that can avoid unnecessary retracing. For (3), please refer to https://www.tensorflow.org/tutorials/customization/performance#python_or_tensor_args and https://www.tensorflow.org/api_docs/python/tf/function for  more details.\n",
      "[0.07161421 0.07149373 0.07152458 0.0715449  0.07148767 0.07139453\n",
      " 0.07176259 0.07172848 0.07133742 0.07115402 0.07109497 0.07133149\n",
      " 0.07142376 0.07110766]\n",
      "6\n",
      "MON Detected in Image\n",
      "-----------------------------------------------\n",
      "NGS_00009.jpg\n",
      "<class 'numpy.ndarray'>\n",
      "WARNING:tensorflow:11 out of the last 54 calls to <function Model.make_predict_function.<locals>.predict_function at 0x0000019A369C38B0> triggered tf.function retracing. Tracing is expensive and the excessive number of tracings could be due to (1) creating @tf.function repeatedly in a loop, (2) passing tensors with different shapes, (3) passing Python objects instead of tensors. For (1), please define your @tf.function outside of the loop. For (2), @tf.function has experimental_relax_shapes=True option that relaxes argument shapes that can avoid unnecessary retracing. For (3), please refer to https://www.tensorflow.org/tutorials/customization/performance#python_or_tensor_args and https://www.tensorflow.org/api_docs/python/tf/function for  more details.\n",
      "[0.07161421 0.07149373 0.07152458 0.0715449  0.07148767 0.07139453\n",
      " 0.07176259 0.07172848 0.07133742 0.07115402 0.07109497 0.07133149\n",
      " 0.07142376 0.07110766]\n",
      "6\n",
      "MON Detected in Image\n",
      "-----------------------------------------------\n",
      "NIF_00009.jpg\n",
      "<class 'numpy.ndarray'>\n",
      "WARNING:tensorflow:11 out of the last 11 calls to <function Model.make_predict_function.<locals>.predict_function at 0x0000019A48BF1B80> triggered tf.function retracing. Tracing is expensive and the excessive number of tracings could be due to (1) creating @tf.function repeatedly in a loop, (2) passing tensors with different shapes, (3) passing Python objects instead of tensors. For (1), please define your @tf.function outside of the loop. For (2), @tf.function has experimental_relax_shapes=True option that relaxes argument shapes that can avoid unnecessary retracing. For (3), please refer to https://www.tensorflow.org/tutorials/customization/performance#python_or_tensor_args and https://www.tensorflow.org/api_docs/python/tf/function for  more details.\n"
     ]
    },
    {
     "name": "stdout",
     "output_type": "stream",
     "text": [
      "[0.07161421 0.07149373 0.07152458 0.0715449  0.07148767 0.07139453\n",
      " 0.07176259 0.07172848 0.07133742 0.07115402 0.07109497 0.07133149\n",
      " 0.07142376 0.07110766]\n",
      "6\n",
      "MON Detected in Image\n",
      "-----------------------------------------------\n",
      "PEB_00009.jpg\n",
      "<class 'numpy.ndarray'>\n",
      "WARNING:tensorflow:11 out of the last 11 calls to <function Model.make_predict_function.<locals>.predict_function at 0x0000019A570B1B80> triggered tf.function retracing. Tracing is expensive and the excessive number of tracings could be due to (1) creating @tf.function repeatedly in a loop, (2) passing tensors with different shapes, (3) passing Python objects instead of tensors. For (1), please define your @tf.function outside of the loop. For (2), @tf.function has experimental_relax_shapes=True option that relaxes argument shapes that can avoid unnecessary retracing. For (3), please refer to https://www.tensorflow.org/tutorials/customization/performance#python_or_tensor_args and https://www.tensorflow.org/api_docs/python/tf/function for  more details.\n",
      "[0.07161421 0.07149373 0.07152458 0.0715449  0.07148767 0.07139453\n",
      " 0.07176259 0.07172848 0.07133742 0.07115402 0.07109497 0.07133149\n",
      " 0.07142376 0.07110766]\n",
      "6\n",
      "MON Detected in Image\n",
      "-----------------------------------------------\n",
      "PLM_00009.jpg\n",
      "<class 'numpy.ndarray'>\n",
      "WARNING:tensorflow:11 out of the last 11 calls to <function Model.make_predict_function.<locals>.predict_function at 0x0000019A75C8C040> triggered tf.function retracing. Tracing is expensive and the excessive number of tracings could be due to (1) creating @tf.function repeatedly in a loop, (2) passing tensors with different shapes, (3) passing Python objects instead of tensors. For (1), please define your @tf.function outside of the loop. For (2), @tf.function has experimental_relax_shapes=True option that relaxes argument shapes that can avoid unnecessary retracing. For (3), please refer to https://www.tensorflow.org/tutorials/customization/performance#python_or_tensor_args and https://www.tensorflow.org/api_docs/python/tf/function for  more details.\n",
      "[0.07161421 0.07149373 0.07152458 0.0715449  0.07148767 0.07139453\n",
      " 0.07176259 0.07172848 0.07133742 0.07115402 0.07109497 0.07133149\n",
      " 0.07142376 0.07110766]\n",
      "6\n",
      "MON Detected in Image\n",
      "-----------------------------------------------\n",
      "PMO_00009.jpg\n",
      "<class 'numpy.ndarray'>\n",
      "WARNING:tensorflow:11 out of the last 11 calls to <function Model.make_predict_function.<locals>.predict_function at 0x0000019A78C591F0> triggered tf.function retracing. Tracing is expensive and the excessive number of tracings could be due to (1) creating @tf.function repeatedly in a loop, (2) passing tensors with different shapes, (3) passing Python objects instead of tensors. For (1), please define your @tf.function outside of the loop. For (2), @tf.function has experimental_relax_shapes=True option that relaxes argument shapes that can avoid unnecessary retracing. For (3), please refer to https://www.tensorflow.org/tutorials/customization/performance#python_or_tensor_args and https://www.tensorflow.org/api_docs/python/tf/function for  more details.\n",
      "[0.07161421 0.07149373 0.07152458 0.0715449  0.07148767 0.07139453\n",
      " 0.07176259 0.07172848 0.07133742 0.07115402 0.07109497 0.07133149\n",
      " 0.07142376 0.07110766]\n",
      "6\n",
      "MON Detected in Image\n",
      "-----------------------------------------------\n"
     ]
    }
   ],
   "source": [
    "import os\n",
    "for i in os.listdir(\"testing/\"):\n",
    "    print(i)\n",
    "    \n",
    "    from tensorflow import keras\n",
    "    model = keras.models.load_model('model/VGGSKin.hp5')\n",
    "    from keras.preprocessing import image\n",
    "    image_size=224\n",
    "    #img = cv2.imread(path1+\"//\"+i)\n",
    "    path=\"testing/\"+i\n",
    "    img = image.load_img(path, target_size=(image_size, image_size))\n",
    "    x = image.img_to_array(img)\n",
    "    print(type(x))\n",
    "    img_4d=x.reshape(1,224,224,3)\n",
    "    #img_4d=img_4d/255\n",
    "    model = keras.models.load_model('model/VGGSKin.hp5')\n",
    "    predictions = model.predict(img_4d)\n",
    "    print(predictions[0])\n",
    "    new_pred=np.argmax(predictions[0])\n",
    "    print(new_pred)\n",
    "#     ['COVID19', 'NORMAL', 'OTHERS', 'PNEUMONIA', 'TUBERCOLOSIS']\n",
    "    dict1={0:'ART',1:'BLA',2:'EBO',3:'EOS',4:'LYT',5:'MMZ',6:'MON',7:'MYB',8:'NGB',9:'NGS',10:'NIF',11:'PEB',12:'PLM',13:'PMO'}\n",
    "    list1=['ART','BLA','EBO','EOS','LYT','MMZ','MON','MYB','NGB','NGS','NIF','PEB','PLM','PMO']\n",
    "    a=dict1[new_pred]\n",
    "    \n",
    "    print(str(a)+\" Detected in Image\")\n",
    "    print(\"-----------------------------------------------\")\n",
    "    #break\n",
    "\n"
   ]
  },
  {
   "cell_type": "code",
   "execution_count": null,
   "id": "474ce7f0",
   "metadata": {},
   "outputs": [],
   "source": []
  },
  {
   "cell_type": "code",
   "execution_count": null,
   "id": "1783f552",
   "metadata": {},
   "outputs": [],
   "source": []
  },
  {
   "cell_type": "code",
   "execution_count": null,
   "id": "ea47708b",
   "metadata": {},
   "outputs": [],
   "source": []
  },
  {
   "cell_type": "code",
   "execution_count": null,
   "id": "6204a6e0",
   "metadata": {},
   "outputs": [],
   "source": []
  },
  {
   "cell_type": "code",
   "execution_count": null,
   "id": "6c5e15ff",
   "metadata": {},
   "outputs": [],
   "source": []
  }
 ],
 "metadata": {
  "kernelspec": {
   "display_name": "Python 3 (ipykernel)",
   "language": "python",
   "name": "python3"
  },
  "language_info": {
   "codemirror_mode": {
    "name": "ipython",
    "version": 3
   },
   "file_extension": ".py",
   "mimetype": "text/x-python",
   "name": "python",
   "nbconvert_exporter": "python",
   "pygments_lexer": "ipython3",
   "version": "3.8.13"
  }
 },
 "nbformat": 4,
 "nbformat_minor": 5
}
